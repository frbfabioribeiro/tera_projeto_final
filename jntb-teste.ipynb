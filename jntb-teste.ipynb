{
 "cells": [
  {
   "cell_type": "code",
   "execution_count": 1,
   "metadata": {},
   "outputs": [
    {
     "name": "stdout",
     "output_type": "stream",
     "text": [
      "agora vai\n"
     ]
    }
   ],
   "source": [
    "def oi():\n",
    "    print(\"agora vai\")\n",
    "oi()"
   ]
  }
 ],
 "metadata": {
  "interpreter": {
   "hash": "b92fef0aedb9cb4723681313667b28454bb0aa14d1fcde357b11ef7384175067"
  },
  "kernelspec": {
   "display_name": "Python 3.9.7 ('aula_tera_db')",
   "language": "python",
   "name": "python3"
  },
  "language_info": {
   "codemirror_mode": {
    "name": "ipython",
    "version": 3
   },
   "file_extension": ".py",
   "mimetype": "text/x-python",
   "name": "python",
   "nbconvert_exporter": "python",
   "pygments_lexer": "ipython3",
   "version": "3.9.7"
  },
  "orig_nbformat": 4
 },
 "nbformat": 4,
 "nbformat_minor": 2
}
